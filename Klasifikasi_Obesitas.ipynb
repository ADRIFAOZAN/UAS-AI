{
  "nbformat": 4,
  "nbformat_minor": 0,
  "metadata": {
    "colab": {
      "provenance": [],
      "authorship_tag": "ABX9TyNbiasoX7Nj9uTx1x+uh88f",
      "include_colab_link": true
    },
    "kernelspec": {
      "name": "python3",
      "display_name": "Python 3"
    },
    "language_info": {
      "name": "python"
    }
  },
  "cells": [
    {
      "cell_type": "markdown",
      "metadata": {
        "id": "view-in-github",
        "colab_type": "text"
      },
      "source": [
        "<a href=\"https://colab.research.google.com/github/ADRIFAOZAN/UAS-AI/blob/main/Klasifikasi_Obesitas.ipynb\" target=\"_parent\"><img src=\"https://colab.research.google.com/assets/colab-badge.svg\" alt=\"Open In Colab\"/></a>"
      ]
    },
    {
      "cell_type": "markdown",
      "source": [
        "# Klasifikasi Obesitas menggunakan KNN\n",
        "\n",
        "Dibuat oleh : adri_faozan"
      ],
      "metadata": {
        "id": "zK0weOgWnhDW"
      }
    },
    {
      "cell_type": "code",
      "source": [],
      "metadata": {
        "id": "1DoR34fZn46I"
      },
      "execution_count": null,
      "outputs": []
    }
  ]
}